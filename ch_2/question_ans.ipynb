{
 "cells": [
  {
   "cell_type": "markdown",
   "metadata": {},
   "source": [
    "## 1. 给定一个正整数n,找出一个正整数列表,它们的乘积是所有和为 n 的正整数列表中最大的。例如,如果 n 为 4,那么要求的正整数列就是 2,2,因为 2\\*2 的结果比1\\*1\\*1\\*1、2\\*1\\*1以及3\\*1 的结果都要大。再比如,如果n 为 5,那么所求的正整数列就是 2,3。"
   ]
  },
  {
   "cell_type": "markdown",
   "metadata": {},
   "source": [
    "(1) 如果n=2001，数列是什么？"
   ]
  },
  {
   "cell_type": "markdown",
   "metadata": {},
   "source": [
    "2001可以被3整除，因此数列是[3,3,3,...,3]一共有667个3"
   ]
  },
  {
   "cell_type": "markdown",
   "metadata": {},
   "source": [
    "(2)解释是如何迈出第一步的"
   ]
  },
  {
   "cell_type": "markdown",
   "metadata": {},
   "source": [
    "观察数字n：\n",
    "- 如果 n = 1 、 2 、 3 、 4 、 5 ，都可以对应给出结果。\n",
    "- 如果 n mod 3 = 0 ，即 3 \\* m = n ,则可以划分为全为 3 的数组，数量为 m 个。\n",
    "- 如果 n mod 3 = 1 ，即 3 \\* m + 1= n ,则可以划分为 m - 1 个 3 、2 个 2 的数组。\n",
    "- 如果 n mod 3 = 2 ，即 3 \\* m + 2= n ,则可以划分为 m 个 3 、1 个 2 的数组。 "
   ]
  },
  {
   "cell_type": "markdown",
   "metadata": {},
   "source": [
    "(3)用python实现代码"
   ]
  },
  {
   "cell_type": "code",
   "execution_count": 9,
   "metadata": {},
   "outputs": [
    {
     "name": "stdout",
     "output_type": "stream",
     "text": [
      "正整数序列为: None\n"
     ]
    }
   ],
   "source": [
    "def generate_arrays(n):\n",
    "    if n < 1:\n",
    "        return\n",
    "    elif n == 1:\n",
    "        return [1]\n",
    "    elif n % 3 == 0:\n",
    "        m = n // 3\n",
    "        return [3] * m\n",
    "    elif n % 3 == 1:\n",
    "        m = n // 3 - 1\n",
    "        return [3] * m + [2, 2]\n",
    "    else:\n",
    "        m = n // 3\n",
    "        return [3] * m + [2]\n",
    "\n",
    "# 输入一个正整数n\n",
    "n = int(input(\"请输入一个正整数n: \"))\n",
    "result = generate_arrays(n)\n",
    "print(\"正整数序列为:\", result)"
   ]
  },
  {
   "cell_type": "markdown",
   "metadata": {},
   "source": [
    "# 2.用python计算2的10次方、20次方、30次方、40次方和50次方，观察所得结果。"
   ]
  },
  {
   "cell_type": "code",
   "execution_count": 1,
   "metadata": {},
   "outputs": [
    {
     "ename": "ModuleNotFoundError",
     "evalue": "No module named 'matplotlib'",
     "output_type": "error",
     "traceback": [
      "\u001b[0;31m---------------------------------------------------------------------------\u001b[0m",
      "\u001b[0;31mModuleNotFoundError\u001b[0m                       Traceback (most recent call last)",
      "\u001b[1;32m/Users/huangwenrui/Workspace/ECNU Course/dase-practice-course/ch_2/ch_2_question_ans.ipynb 单元格 9\u001b[0m line \u001b[0;36m1\n\u001b[0;32m----> <a href='vscode-notebook-cell:/Users/huangwenrui/Workspace/ECNU%20Course/dase-practice-course/ch_2/ch_2_question_ans.ipynb#X11sZmlsZQ%3D%3D?line=0'>1</a>\u001b[0m \u001b[39mimport\u001b[39;00m \u001b[39mmatplotlib\u001b[39;00m\u001b[39m.\u001b[39;00m\u001b[39mpyplot\u001b[39;00m \u001b[39mas\u001b[39;00m \u001b[39mplt\u001b[39;00m\n\u001b[1;32m      <a href='vscode-notebook-cell:/Users/huangwenrui/Workspace/ECNU%20Course/dase-practice-course/ch_2/ch_2_question_ans.ipynb#X11sZmlsZQ%3D%3D?line=2'>3</a>\u001b[0m result_10 \u001b[39m=\u001b[39m \u001b[39m2\u001b[39m \u001b[39m*\u001b[39m\u001b[39m*\u001b[39m \u001b[39m10\u001b[39m\n\u001b[1;32m      <a href='vscode-notebook-cell:/Users/huangwenrui/Workspace/ECNU%20Course/dase-practice-course/ch_2/ch_2_question_ans.ipynb#X11sZmlsZQ%3D%3D?line=3'>4</a>\u001b[0m result_20 \u001b[39m=\u001b[39m \u001b[39m2\u001b[39m \u001b[39m*\u001b[39m\u001b[39m*\u001b[39m \u001b[39m20\u001b[39m\n",
      "\u001b[0;31mModuleNotFoundError\u001b[0m: No module named 'matplotlib'"
     ]
    }
   ],
   "source": [
    "import matplotlib.pyplot as plt\n",
    "\n",
    "result_10 = 2 ** 10\n",
    "result_20 = 2 ** 20\n",
    "result_30 = 2 ** 30\n",
    "result_40 = 2 ** 40\n",
    "result_50 = 2 ** 50\n",
    "\n",
    "print(\"2^10 =\", result_10)\n",
    "print(\"2^20 =\", result_20)\n",
    "print(\"2^30 =\", result_30)\n",
    "print(\"2^40 =\", result_40)\n",
    "print(\"2^50 =\", result_50)\n",
    "\n",
    "exponents = [10, 20, 30, 40, 50]\n",
    "results = [2 ** exp for exp in exponents]\n",
    "\n",
    "plt.plot(exponents, results, marker='o', linestyle='-')\n",
    "plt.title('2^x for Different Exponents')\n",
    "plt.xlabel('Exponent (x)')\n",
    "plt.ylabel('2^x')\n",
    "plt.grid(True)\n",
    "plt.show()"
   ]
  },
  {
   "cell_type": "code",
   "execution_count": 2,
   "metadata": {},
   "outputs": [
    {
     "data": {
      "text/plain": [
       "['/Users/huangwenrui/Workspace/ECNU Course/dase-practice-course/ch_2',\n",
       " '/opt/homebrew/Cellar/python@3.11/3.11.5/Frameworks/Python.framework/Versions/3.11/lib/python311.zip',\n",
       " '/opt/homebrew/Cellar/python@3.11/3.11.5/Frameworks/Python.framework/Versions/3.11/lib/python3.11',\n",
       " '/opt/homebrew/Cellar/python@3.11/3.11.5/Frameworks/Python.framework/Versions/3.11/lib/python3.11/lib-dynload',\n",
       " '',\n",
       " '/Users/huangwenrui/Library/Python/3.11/lib/python/site-packages',\n",
       " '/opt/homebrew/lib/python3.11/site-packages']"
      ]
     },
     "execution_count": 2,
     "metadata": {},
     "output_type": "execute_result"
    }
   ],
   "source": [
    "import sys\n",
    "sys.path"
   ]
  }
 ],
 "metadata": {
  "kernelspec": {
   "display_name": "Python 3",
   "language": "python",
   "name": "python3"
  },
  "language_info": {
   "codemirror_mode": {
    "name": "ipython",
    "version": 3
   },
   "file_extension": ".py",
   "mimetype": "text/x-python",
   "name": "python",
   "nbconvert_exporter": "python",
   "pygments_lexer": "ipython3",
   "version": "3.11.5"
  }
 },
 "nbformat": 4,
 "nbformat_minor": 2
}
